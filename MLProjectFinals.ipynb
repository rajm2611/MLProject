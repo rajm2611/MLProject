{
 "cells": [
  {
   "cell_type": "code",
   "execution_count": 1,
   "metadata": {},
   "outputs": [],
   "source": [
    "import pandas as pd\n",
    "import numpy as np\n",
    "import matplotlib.pyplot as plt\n",
    "from datetime import date\n",
    "from sklearn.decomposition import PCA\n",
    "from sklearn.preprocessing import MinMaxScaler\n",
    "from sklearn import linear_model\n",
    "from sklearn.metrics import mean_squared_error\n",
    "from sklearn.model_selection import train_test_split\n",
    "from sklearn.preprocessing import PolynomialFeatures\n",
    "from sklearn.pipeline import make_pipeline\n",
    "from sklearn.model_selection import KFold\n",
    "from math import sqrt"
   ]
  },
  {
   "cell_type": "code",
   "execution_count": 2,
   "metadata": {},
   "outputs": [],
   "source": [
    "headers=[\"idnum\",\"age\",\"workerclass\",\"interestincome\", \"traveltimetowork\", \"vehicleoccupancy\", \"meansoftransport\", \n",
    "\"marital\", \"schoolenrollment\", \"educationalattain\", \"sex\", \"workarrivaltime\", \"hoursworkperweek\", \"ancestry\", \"degreefield\", \"industryworkedin\", \"wages\"]\n",
    "headerstest=[\"idnum\",\"age\",\"workerclass\",\"interestincome\", \"traveltimetowork\", \"vehicleoccupancy\", \"meansoftransport\", \n",
    "\"marital\", \"schoolenrollment\", \"educationalattain\", \"sex\", \"workarrivaltime\", \"hoursworkperweek\", \"ancestry\", \"degreefield\", \"industryworkedin\"]\n",
    "trainData = pd.read_csv(\"census_train.csv\",header=None, names=headers)\n",
    "testData = pd.read_csv(\"census_test.csv\",header=None, names=headerstest)"
   ]
  },
  {
   "cell_type": "code",
   "execution_count": 3,
   "metadata": {},
   "outputs": [
    {
     "name": "stdout",
     "output_type": "stream",
     "text": [
      "Training Data Shape:  (1184, 16)\n"
     ]
    },
    {
     "data": {
      "text/html": [
       "<div>\n",
       "<style scoped>\n",
       "    .dataframe tbody tr th:only-of-type {\n",
       "        vertical-align: middle;\n",
       "    }\n",
       "\n",
       "    .dataframe tbody tr th {\n",
       "        vertical-align: top;\n",
       "    }\n",
       "\n",
       "    .dataframe thead th {\n",
       "        text-align: right;\n",
       "    }\n",
       "</style>\n",
       "<table border=\"1\" class=\"dataframe\">\n",
       "  <thead>\n",
       "    <tr style=\"text-align: right;\">\n",
       "      <th></th>\n",
       "      <th>idnum</th>\n",
       "      <th>age</th>\n",
       "      <th>workerclass</th>\n",
       "      <th>interestincome</th>\n",
       "      <th>traveltimetowork</th>\n",
       "      <th>vehicleoccupancy</th>\n",
       "      <th>meansoftransport</th>\n",
       "      <th>marital</th>\n",
       "      <th>schoolenrollment</th>\n",
       "      <th>educationalattain</th>\n",
       "      <th>sex</th>\n",
       "      <th>workarrivaltime</th>\n",
       "      <th>hoursworkperweek</th>\n",
       "      <th>ancestry</th>\n",
       "      <th>degreefield</th>\n",
       "      <th>industryworkedin</th>\n",
       "    </tr>\n",
       "  </thead>\n",
       "  <tbody>\n",
       "    <tr>\n",
       "      <th>0</th>\n",
       "      <td>0</td>\n",
       "      <td>58</td>\n",
       "      <td>3</td>\n",
       "      <td>0</td>\n",
       "      <td>40</td>\n",
       "      <td>2</td>\n",
       "      <td>1</td>\n",
       "      <td>1</td>\n",
       "      <td>1</td>\n",
       "      <td>22</td>\n",
       "      <td>1</td>\n",
       "      <td>84</td>\n",
       "      <td>40</td>\n",
       "      <td>32</td>\n",
       "      <td>2300</td>\n",
       "      <td>7870</td>\n",
       "    </tr>\n",
       "    <tr>\n",
       "      <th>1</th>\n",
       "      <td>1</td>\n",
       "      <td>34</td>\n",
       "      <td>3</td>\n",
       "      <td>0</td>\n",
       "      <td>10</td>\n",
       "      <td>1</td>\n",
       "      <td>1</td>\n",
       "      <td>5</td>\n",
       "      <td>1</td>\n",
       "      <td>16</td>\n",
       "      <td>1</td>\n",
       "      <td>168</td>\n",
       "      <td>40</td>\n",
       "      <td>51</td>\n",
       "      <td>?</td>\n",
       "      <td>7860</td>\n",
       "    </tr>\n",
       "    <tr>\n",
       "      <th>2</th>\n",
       "      <td>2</td>\n",
       "      <td>57</td>\n",
       "      <td>2</td>\n",
       "      <td>0</td>\n",
       "      <td>15</td>\n",
       "      <td>8</td>\n",
       "      <td>1</td>\n",
       "      <td>5</td>\n",
       "      <td>1</td>\n",
       "      <td>16</td>\n",
       "      <td>1</td>\n",
       "      <td>100</td>\n",
       "      <td>30</td>\n",
       "      <td>51</td>\n",
       "      <td>?</td>\n",
       "      <td>8390</td>\n",
       "    </tr>\n",
       "    <tr>\n",
       "      <th>3</th>\n",
       "      <td>3</td>\n",
       "      <td>17</td>\n",
       "      <td>?</td>\n",
       "      <td>0</td>\n",
       "      <td>?</td>\n",
       "      <td>?</td>\n",
       "      <td>?</td>\n",
       "      <td>5</td>\n",
       "      <td>2</td>\n",
       "      <td>15</td>\n",
       "      <td>2</td>\n",
       "      <td>?</td>\n",
       "      <td>?</td>\n",
       "      <td>714</td>\n",
       "      <td>?</td>\n",
       "      <td>?</td>\n",
       "    </tr>\n",
       "    <tr>\n",
       "      <th>4</th>\n",
       "      <td>4</td>\n",
       "      <td>42</td>\n",
       "      <td>1</td>\n",
       "      <td>0</td>\n",
       "      <td>20</td>\n",
       "      <td>1</td>\n",
       "      <td>1</td>\n",
       "      <td>1</td>\n",
       "      <td>1</td>\n",
       "      <td>22</td>\n",
       "      <td>1</td>\n",
       "      <td>92</td>\n",
       "      <td>45</td>\n",
       "      <td>21</td>\n",
       "      <td>5001</td>\n",
       "      <td>6990</td>\n",
       "    </tr>\n",
       "  </tbody>\n",
       "</table>\n",
       "</div>"
      ],
      "text/plain": [
       "   idnum  age workerclass  interestincome traveltimetowork vehicleoccupancy  \\\n",
       "0      0   58           3               0               40                2   \n",
       "1      1   34           3               0               10                1   \n",
       "2      2   57           2               0               15                8   \n",
       "3      3   17           ?               0                ?                ?   \n",
       "4      4   42           1               0               20                1   \n",
       "\n",
       "  meansoftransport  marital  schoolenrollment  educationalattain  sex  \\\n",
       "0                1        1                 1                 22    1   \n",
       "1                1        5                 1                 16    1   \n",
       "2                1        5                 1                 16    1   \n",
       "3                ?        5                 2                 15    2   \n",
       "4                1        1                 1                 22    1   \n",
       "\n",
       "  workarrivaltime hoursworkperweek  ancestry degreefield industryworkedin  \n",
       "0              84               40        32        2300             7870  \n",
       "1             168               40        51           ?             7860  \n",
       "2             100               30        51           ?             8390  \n",
       "3               ?                ?       714           ?                ?  \n",
       "4              92               45        21        5001             6990  "
      ]
     },
     "execution_count": 3,
     "metadata": {},
     "output_type": "execute_result"
    }
   ],
   "source": [
    "trainingFeatures = trainData.iloc[:,:-1]\n",
    "trainingLabels = trainData['wages']\n",
    "print (\"Training Data Shape: \",trainingFeatures.shape)\n",
    "trainingFeatures.head(5)"
   ]
  },
  {
   "cell_type": "code",
   "execution_count": 4,
   "metadata": {},
   "outputs": [
    {
     "name": "stdout",
     "output_type": "stream",
     "text": [
      "Testing Data Shape:  (500, 16)\n"
     ]
    }
   ],
   "source": [
    "testFeatures=testData\n",
    "print (\"Testing Data Shape: \",testFeatures.shape)"
   ]
  },
  {
   "cell_type": "code",
   "execution_count": 5,
   "metadata": {},
   "outputs": [
    {
     "data": {
      "text/html": [
       "<div>\n",
       "<style scoped>\n",
       "    .dataframe tbody tr th:only-of-type {\n",
       "        vertical-align: middle;\n",
       "    }\n",
       "\n",
       "    .dataframe tbody tr th {\n",
       "        vertical-align: top;\n",
       "    }\n",
       "\n",
       "    .dataframe thead th {\n",
       "        text-align: right;\n",
       "    }\n",
       "</style>\n",
       "<table border=\"1\" class=\"dataframe\">\n",
       "  <thead>\n",
       "    <tr style=\"text-align: right;\">\n",
       "      <th></th>\n",
       "      <th>idnum</th>\n",
       "      <th>age</th>\n",
       "      <th>workerclass</th>\n",
       "      <th>interestincome</th>\n",
       "      <th>traveltimetowork</th>\n",
       "      <th>vehicleoccupancy</th>\n",
       "      <th>meansoftransport</th>\n",
       "      <th>marital</th>\n",
       "      <th>schoolenrollment</th>\n",
       "      <th>educationalattain</th>\n",
       "      <th>sex</th>\n",
       "      <th>workarrivaltime</th>\n",
       "      <th>hoursworkperweek</th>\n",
       "      <th>ancestry</th>\n",
       "      <th>degreefield</th>\n",
       "      <th>industryworkedin</th>\n",
       "    </tr>\n",
       "  </thead>\n",
       "  <tbody>\n",
       "    <tr>\n",
       "      <th>0</th>\n",
       "      <td>1405</td>\n",
       "      <td>62</td>\n",
       "      <td>1</td>\n",
       "      <td>20</td>\n",
       "      <td>?</td>\n",
       "      <td>?</td>\n",
       "      <td>?</td>\n",
       "      <td>2</td>\n",
       "      <td>1</td>\n",
       "      <td>18</td>\n",
       "      <td>2</td>\n",
       "      <td>?</td>\n",
       "      <td>?</td>\n",
       "      <td>32</td>\n",
       "      <td>?</td>\n",
       "      <td>4970</td>\n",
       "    </tr>\n",
       "    <tr>\n",
       "      <th>1</th>\n",
       "      <td>1406</td>\n",
       "      <td>61</td>\n",
       "      <td>1</td>\n",
       "      <td>0</td>\n",
       "      <td>30</td>\n",
       "      <td>1</td>\n",
       "      <td>1</td>\n",
       "      <td>2</td>\n",
       "      <td>1</td>\n",
       "      <td>18</td>\n",
       "      <td>2</td>\n",
       "      <td>112</td>\n",
       "      <td>40</td>\n",
       "      <td>51</td>\n",
       "      <td>?</td>\n",
       "      <td>7070</td>\n",
       "    </tr>\n",
       "    <tr>\n",
       "      <th>2</th>\n",
       "      <td>1407</td>\n",
       "      <td>38</td>\n",
       "      <td>4</td>\n",
       "      <td>0</td>\n",
       "      <td>15</td>\n",
       "      <td>1</td>\n",
       "      <td>1</td>\n",
       "      <td>1</td>\n",
       "      <td>1</td>\n",
       "      <td>24</td>\n",
       "      <td>1</td>\n",
       "      <td>101</td>\n",
       "      <td>40</td>\n",
       "      <td>148</td>\n",
       "      <td>3700</td>\n",
       "      <td>7870</td>\n",
       "    </tr>\n",
       "    <tr>\n",
       "      <th>3</th>\n",
       "      <td>1408</td>\n",
       "      <td>19</td>\n",
       "      <td>?</td>\n",
       "      <td>0</td>\n",
       "      <td>?</td>\n",
       "      <td>?</td>\n",
       "      <td>?</td>\n",
       "      <td>5</td>\n",
       "      <td>3</td>\n",
       "      <td>15</td>\n",
       "      <td>2</td>\n",
       "      <td>?</td>\n",
       "      <td>?</td>\n",
       "      <td>929</td>\n",
       "      <td>?</td>\n",
       "      <td>?</td>\n",
       "    </tr>\n",
       "    <tr>\n",
       "      <th>4</th>\n",
       "      <td>1410</td>\n",
       "      <td>37</td>\n",
       "      <td>1</td>\n",
       "      <td>0</td>\n",
       "      <td>35</td>\n",
       "      <td>?</td>\n",
       "      <td>2</td>\n",
       "      <td>1</td>\n",
       "      <td>1</td>\n",
       "      <td>21</td>\n",
       "      <td>2</td>\n",
       "      <td>119</td>\n",
       "      <td>42</td>\n",
       "      <td>720</td>\n",
       "      <td>6109</td>\n",
       "      <td>7970</td>\n",
       "    </tr>\n",
       "  </tbody>\n",
       "</table>\n",
       "</div>"
      ],
      "text/plain": [
       "   idnum  age workerclass  interestincome traveltimetowork vehicleoccupancy  \\\n",
       "0   1405   62           1              20                ?                ?   \n",
       "1   1406   61           1               0               30                1   \n",
       "2   1407   38           4               0               15                1   \n",
       "3   1408   19           ?               0                ?                ?   \n",
       "4   1410   37           1               0               35                ?   \n",
       "\n",
       "  meansoftransport  marital  schoolenrollment  educationalattain  sex  \\\n",
       "0                ?        2                 1                 18    2   \n",
       "1                1        2                 1                 18    2   \n",
       "2                1        1                 1                 24    1   \n",
       "3                ?        5                 3                 15    2   \n",
       "4                2        1                 1                 21    2   \n",
       "\n",
       "  workarrivaltime hoursworkperweek  ancestry degreefield industryworkedin  \n",
       "0               ?                ?        32           ?             4970  \n",
       "1             112               40        51           ?             7070  \n",
       "2             101               40       148        3700             7870  \n",
       "3               ?                ?       929           ?                ?  \n",
       "4             119               42       720        6109             7970  "
      ]
     },
     "execution_count": 5,
     "metadata": {},
     "output_type": "execute_result"
    }
   ],
   "source": [
    "testFeatures.head(5)"
   ]
  },
  {
   "cell_type": "code",
   "execution_count": 6,
   "metadata": {},
   "outputs": [],
   "source": [
    "trainingFeatures = trainingFeatures.replace('?', 0)\n",
    "testFeatures = testFeatures.replace('?', 0)"
   ]
  },
  {
   "cell_type": "code",
   "execution_count": 7,
   "metadata": {},
   "outputs": [],
   "source": [
    "bins = [0,12,35,55,75,95]\n",
    "trainingFeatures['age'] = np.searchsorted(bins, trainingFeatures['age'].values)\n",
    "testFeatures['age'] = np.searchsorted(bins, testFeatures['age'].values)"
   ]
  },
  {
   "cell_type": "code",
   "execution_count": 8,
   "metadata": {},
   "outputs": [],
   "source": [
    "bins1 = [0,15,19,22,24]\n",
    "trainingFeatures['educationalattain'] = np.searchsorted(bins1, trainingFeatures['educationalattain'].values)\n",
    "testFeatures['educationalattain'] = np.searchsorted(bins1, testFeatures['educationalattain'].values)"
   ]
  },
  {
   "cell_type": "code",
   "execution_count": 9,
   "metadata": {},
   "outputs": [],
   "source": [
    "trainingFeatures['industryworkedin']=trainingFeatures['industryworkedin'].astype(int)\n",
    "bins2 = [-1,0,290,490,690,770,3990,4590,5790,6390,6780,7190,7790,7890,8290,8470,8690,9290,9590,9870,9920]\n",
    "trainingFeatures['industryworkedin'] = pd.cut(trainingFeatures['industryworkedin'], bins=bins2)\n",
    "\n",
    "testFeatures['industryworkedin']=testFeatures['industryworkedin'].astype(int)\n",
    "testFeatures['industryworkedin'] = pd.cut(testFeatures['industryworkedin'], bins=bins2)"
   ]
  },
  {
   "cell_type": "code",
   "execution_count": 10,
   "metadata": {},
   "outputs": [
    {
     "name": "stdout",
     "output_type": "stream",
     "text": [
      "Training Data Shape:  (1184, 16)\n",
      "Testing Data Shape:  (500, 16)\n"
     ]
    }
   ],
   "source": [
    "print (\"Training Data Shape: \",trainingFeatures.shape)\n",
    "print (\"Testing Data Shape: \",testFeatures.shape)"
   ]
  },
  {
   "cell_type": "code",
   "execution_count": 11,
   "metadata": {},
   "outputs": [],
   "source": [
    "def cleanData(df,unnecessaryColumns):\n",
    "    \"\"\" DATA CLEANING \"\"\"\n",
    "    # Remove duplicates if any from the data. \n",
    "    df.drop_duplicates(inplace=True)\n",
    "    \n",
    "    df.drop(labels=unnecessaryColumns, axis=1, inplace=True)\n",
    "\n",
    "    return df"
   ]
  },
  {
   "cell_type": "code",
   "execution_count": 12,
   "metadata": {},
   "outputs": [],
   "source": [
    "unnecessaryColumns = ['idnum','traveltimetowork', 'vehicleoccupancy', 'marital', 'workarrivaltime', 'ancestry']\n",
    "trainingFeatures = cleanData(trainingFeatures, unnecessaryColumns)\n",
    "testFeatures = cleanData(testFeatures, unnecessaryColumns)\n"
   ]
  },
  {
   "cell_type": "code",
   "execution_count": 13,
   "metadata": {},
   "outputs": [],
   "source": [
    "def oneHotEncode(df, encodeColumns, prefix=None):\n",
    "    encodedLabels = pd.get_dummies(df[encodeColumns], prefix=prefix)\n",
    "    df = df.drop(encodeColumns, axis=1)\n",
    "    return df.join(encodedLabels)"
   ]
  },
  {
   "cell_type": "code",
   "execution_count": 14,
   "metadata": {},
   "outputs": [],
   "source": [
    "encodeColumns = [\"workerclass\",\"meansoftransport\",\"schoolenrollment\",\"educationalattain\",\"sex\",\"degreefield\",\"industryworkedin\"]\n",
    "trainingFeatures = oneHotEncode(trainingFeatures, encodeColumns)\n",
    "testFeatures = oneHotEncode(testFeatures, encodeColumns)"
   ]
  },
  {
   "cell_type": "code",
   "execution_count": 15,
   "metadata": {},
   "outputs": [],
   "source": [
    "min_max_scaler = MinMaxScaler()\n",
    "trainingFeatures = min_max_scaler.fit_transform(trainingFeatures)\n",
    "trainingFeatures = pd.DataFrame(trainingFeatures)\n",
    "pca = PCA()\n",
    "pca.fit(trainingFeatures)\n",
    "trainingFeatures = pd.DataFrame(pca.transform(trainingFeatures))"
   ]
  },
  {
   "cell_type": "code",
   "execution_count": 16,
   "metadata": {},
   "outputs": [],
   "source": [
    "min_max_scaler = MinMaxScaler()\n",
    "testFeatures = min_max_scaler.fit_transform(testFeatures)\n",
    "testFeatures = pd.DataFrame(testFeatures)\n",
    "pca = PCA()\n",
    "pca.fit(testFeatures)\n",
    "testFeatures = pd.DataFrame(pca.transform(testFeatures))\n"
   ]
  },
  {
   "cell_type": "code",
   "execution_count": 17,
   "metadata": {},
   "outputs": [
    {
     "name": "stdout",
     "output_type": "stream",
     "text": [
      "Training Data Shape:  (1184, 143)\n",
      "Testing Data Shape:  (500, 110)\n"
     ]
    }
   ],
   "source": [
    "print (\"Training Data Shape: \",trainingFeatures.shape)\n",
    "print (\"Testing Data Shape: \",testFeatures.shape)"
   ]
  },
  {
   "cell_type": "code",
   "execution_count": 18,
   "metadata": {},
   "outputs": [],
   "source": [
    "feature_difference = set(trainingFeatures)-set(testFeatures)"
   ]
  },
  {
   "cell_type": "code",
   "execution_count": 19,
   "metadata": {},
   "outputs": [],
   "source": [
    "feature_difference_df = pd.DataFrame(data=np.zeros((testFeatures.shape[0], len(feature_difference))),\n",
    "                                     columns=list(feature_difference))"
   ]
  },
  {
   "cell_type": "code",
   "execution_count": 20,
   "metadata": {},
   "outputs": [],
   "source": [
    "testFeatures = testFeatures.join(feature_difference_df)"
   ]
  },
  {
   "cell_type": "code",
   "execution_count": 21,
   "metadata": {},
   "outputs": [
    {
     "name": "stdout",
     "output_type": "stream",
     "text": [
      "Training Data Shape:  (1184, 143)\n",
      "Testing Data Shape:  (500, 143)\n"
     ]
    }
   ],
   "source": [
    "print (\"Training Data Shape: \",trainingFeatures.shape)\n",
    "print (\"Testing Data Shape: \",testFeatures.shape)"
   ]
  },
  {
   "cell_type": "code",
   "execution_count": 107,
   "metadata": {},
   "outputs": [],
   "source": [
    "trainX, testX, trainy, testy = train_test_split(trainingFeatures, trainingLabels, test_size=0.25)\n",
    "from sklearn.ensemble import RandomForestRegressor\n",
    "rf=RandomForestRegressor(max_depth=8,n_estimators=65,random_state=2)"
   ]
  },
  {
   "cell_type": "code",
   "execution_count": 108,
   "metadata": {},
   "outputs": [
    {
     "data": {
      "text/plain": [
       "(34532.263733360494, 39628.08915219467)"
      ]
     },
     "execution_count": 108,
     "metadata": {},
     "output_type": "execute_result"
    }
   ],
   "source": [
    "rf.fit(trainX, trainy)\n",
    "predictionsTrain = rf.predict(trainX)\n",
    "predictionsTest = rf.predict(testX)\n",
    "sqrt(mean_squared_error(trainy, predictionsTrain)), sqrt(mean_squared_error(testy, predictionsTest))"
   ]
  },
  {
   "cell_type": "code",
   "execution_count": 22,
   "metadata": {},
   "outputs": [],
   "source": [
    "def linearFitAndPredict(trainX, trainy, testX, testy):\n",
    "    regr = linear_model.LinearRegression()\n",
    "    regr.fit(trainX, trainy)\n",
    "    predictionsTrain = regr.predict(trainX)\n",
    "    predictionsTest = regr.predict(testX)\n",
    "    \n",
    "    return sqrt(mean_squared_error(trainy, predictionsTrain)), sqrt(mean_squared_error(testy, predictionsTest))\n",
    "\n",
    "def polyFitAndPredict(trainX, trainy, testX, testy, alpha, degree):\n",
    "    model = make_pipeline(PolynomialFeatures(degree), linear_model.ElasticNet(alpha=alpha, l1_ratio=0.2))\n",
    "    model.fit(trainX, trainy)\n",
    "    predictionsTrain = model.predict(trainX)\n",
    "    predictionsTest = model.predict(testX)\n",
    "\n",
    "    \n",
    "    print(\"Training Mean squared error for alpha=\"+str(alpha)+\" : %.2f\" % sqrt(mean_squared_error(trainy, predictionsTrain)))\n",
    "    print(\"Test Mean squared error for alpha=\"+str(alpha)+\" : %.2f \"  % sqrt(mean_squared_error(testy, predictionsTest)))\n",
    "    \n",
    "    return sqrt(mean_squared_error(trainy, predictionsTrain)), sqrt(mean_squared_error(testy, predictionsTest)), model\n",
    "\n"
   ]
  },
  {
   "cell_type": "code",
   "execution_count": 23,
   "metadata": {},
   "outputs": [
    {
     "name": "stdout",
     "output_type": "stream",
     "text": [
      "Root Mean Training Error for LinReg after 5 folds:  56408.46233610921\n",
      "Root Mean Test Error for LinReg after 5 folds:  91449.91932904028\n"
     ]
    }
   ],
   "source": [
    "kf = KFold(n_splits=5)\n",
    "kf.get_n_splits(trainingFeatures)\n",
    "predictionsTrainErr = []\n",
    "predictionsTestErr = []\n",
    "for train_index, test_index in kf.split(trainingFeatures):\n",
    "    X_train, X_test = trainingFeatures.iloc[train_index], trainingFeatures.iloc[test_index]\n",
    "    y_train, y_test = trainingLabels.iloc[train_index], trainingLabels.iloc[test_index]\n",
    "    train_err, test_err = linearFitAndPredict(X_train, y_train, X_test, y_test)\n",
    "    predictionsTrainErr.append(train_err)\n",
    "    predictionsTestErr.append(test_err)\n",
    "    \n",
    "print (\"Root Mean Training Error for LinReg after 5 folds: \", np.mean(predictionsTrainErr))\n",
    "print (\"Root Mean Test Error for LinReg after 5 folds: \", np.mean(predictionsTestErr))"
   ]
  },
  {
   "cell_type": "code",
   "execution_count": 111,
   "metadata": {},
   "outputs": [
    {
     "name": "stdout",
     "output_type": "stream",
     "text": [
      "Training Mean squared error for alpha=0.2 : 63707.26\n",
      "Test Mean squared error for alpha=0.2 : 30575.12 \n",
      "Training Mean squared error for alpha=0.2 : 63707.26\n",
      "Test Mean squared error for alpha=0.2 : 30575.12 \n",
      "Training Mean squared error for alpha=0.2 : 63707.26\n",
      "Test Mean squared error for alpha=0.2 : 30575.12 \n",
      "Training Mean squared error for alpha=0.2 : 63707.26\n",
      "Test Mean squared error for alpha=0.2 : 30575.12 \n",
      "Training Mean squared error for alpha=0.2 : 63707.26\n",
      "Test Mean squared error for alpha=0.2 : 30575.12 \n",
      "Root Mean Training Error for PolyReg after 5 folds:  63707.2621743\n",
      "Root Mean Test Error for PolyReg after 5 folds:  30575.1183424\n"
     ]
    }
   ],
   "source": [
    "predictionsTrainErr = []\n",
    "predictionsTestErr = []\n",
    "model = {}\n",
    "for train_index, test_index in kf.split(trainingFeatures):\n",
    "    X_train, X_test = trainingFeatures.iloc[train_index], trainingFeatures.iloc[test_index]\n",
    "    y_train, y_test = trainingLabels.iloc[train_index], trainingLabels.iloc[test_index]\n",
    "    train_err, test_err, model = polyFitAndPredict(trainX, trainy, testX, testy, 0.2, 2)\n",
    "    predictionsTrainErr.append(train_err)\n",
    "    predictionsTestErr.append(test_err)\n",
    "\n",
    "print (\"Root Mean Training Error for PolyReg after 5 folds: \", np.mean(predictionsTrainErr))\n",
    "print (\"Root Mean Test Error for PolyReg after 5 folds: \", np.mean(predictionsTestErr))"
   ]
  },
  {
   "cell_type": "code",
   "execution_count": 124,
   "metadata": {},
   "outputs": [],
   "source": [
    "testPredictions = model.predict(testFeatures)"
   ]
  },
  {
   "cell_type": "code",
   "execution_count": 127,
   "metadata": {},
   "outputs": [],
   "source": [
    "toFile = \"ID,WAGES\\n\"\n",
    "indices = testData[\"idnum\"].values\n",
    "# print testPredictions\n",
    "for i, prediction in enumerate(testPredictions):\n",
    "    toFile += str(indices[i])+\",\"+str(prediction)+\"\\n\"\n",
    "#     \n",
    "with open(\"Output.csv\", \"w\") as text_file:\n",
    "    text_file.write(toFile)"
   ]
  }
 ],
 "metadata": {
  "kernelspec": {
   "display_name": "Python 3",
   "language": "python",
   "name": "python3"
  },
  "language_info": {
   "codemirror_mode": {
    "name": "ipython",
    "version": 3
   },
   "file_extension": ".py",
   "mimetype": "text/x-python",
   "name": "python",
   "nbconvert_exporter": "python",
   "pygments_lexer": "ipython3",
   "version": "3.7.0"
  }
 },
 "nbformat": 4,
 "nbformat_minor": 2
}
